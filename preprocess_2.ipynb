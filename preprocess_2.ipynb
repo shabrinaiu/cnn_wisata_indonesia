{
 "cells": [
  {
   "cell_type": "code",
   "execution_count": 1,
   "id": "966ae8b2",
   "metadata": {},
   "outputs": [],
   "source": [
    "import cv2\n",
    "import os\n",
    "import numpy as np\n",
    "import glob\n",
    "import matplotlib.pyplot as plt\n",
    "\n",
    "from sklearn.model_selection import KFold as kf\n",
    "from PIL import Image"
   ]
  },
  {
   "cell_type": "code",
   "execution_count": 2,
   "id": "334ecd23",
   "metadata": {},
   "outputs": [],
   "source": [
    "# Load Image which saved in .npz files\n",
    "dataset_path = \"utils//dataset.npz\"\n",
    "data = np.load(dataset_path)\n",
    "\n",
    "x = data['x']\n",
    "y = data['y']"
   ]
  },
  {
   "cell_type": "code",
   "execution_count": 3,
   "id": "4e3f7979",
   "metadata": {},
   "outputs": [],
   "source": [
    "# Cross Validation\n",
    "kf_model = kf(n_splits=5, random_state=10, shuffle=True)\n",
    "for train_idx, test_idx in kf_model.split(x, y):\n",
    "    x_train, y_train = x[train_idx] , y[train_idx]\n",
    "    x_test, y_test = x[test_idx] , y[test_idx]"
   ]
  },
  {
   "cell_type": "code",
   "execution_count": 4,
   "id": "d527941a",
   "metadata": {},
   "outputs": [
    {
     "name": "stdout",
     "output_type": "stream",
     "text": [
      "Class=0, n=96 (4.548%)\n",
      "Class=1, n=171 (8.100%)\n",
      "Class=2, n=159 (7.532%)\n",
      "Class=3, n=77 (3.648%)\n",
      "Class=4, n=123 (5.827%)\n",
      "Class=5, n=77 (3.648%)\n",
      "Class=6, n=118 (5.590%)\n",
      "Class=7, n=76 (3.600%)\n",
      "Class=8, n=154 (7.295%)\n",
      "Class=9, n=80 (3.790%)\n",
      "Class=10, n=132 (6.253%)\n",
      "Class=11, n=139 (6.585%)\n",
      "Class=12, n=208 (9.853%)\n",
      "Class=13, n=79 (3.742%)\n"
     ]
    }
   ],
   "source": [
    "# Calculate ratio each classes\n",
    "# Gather data state for further augmentation\n",
    "from collections import Counter\n",
    "\n",
    "augmentation_target = 2000\n",
    "num_classes = 0\n",
    "ns = []\n",
    "\n",
    "counter = Counter(y_train)\n",
    "for k, v in counter.items():\n",
    "    per= v / len(y) * 100\n",
    "    ns.append(v)\n",
    "    num_classes = num_classes + 1\n",
    "    print('Class=%d, n=%d (%.3f%%)' % (k, v, per))"
   ]
  },
  {
   "cell_type": "code",
   "execution_count": 5,
   "id": "dd626ad9",
   "metadata": {},
   "outputs": [
    {
     "data": {
      "text/plain": [
       "14"
      ]
     },
     "execution_count": 5,
     "metadata": {},
     "output_type": "execute_result"
    }
   ],
   "source": [
    "num_classes"
   ]
  },
  {
   "cell_type": "code",
   "execution_count": 6,
   "id": "96f593cc",
   "metadata": {},
   "outputs": [
    {
     "data": {
      "text/plain": [
       "[20, 11, 12, 25, 16, 25, 16, 26, 12, 25, 15, 14, 9, 25]"
      ]
     },
     "execution_count": 6,
     "metadata": {},
     "output_type": "execute_result"
    }
   ],
   "source": [
    "# Gather difference between each classes ratio for augmentation combination\n",
    "required_combination = []\n",
    "\n",
    "for idx, n in enumerate(ns):\n",
    "    required_combination.append(augmentation_target // n)\n",
    "        \n",
    "required_combination"
   ]
  },
  {
   "cell_type": "markdown",
   "id": "92283c8c",
   "metadata": {},
   "source": [
    "<b>Augmentation Combination</b>\n",
    "\n",
    "First Group\n",
    "\n",
    "0. None\n",
    "1. Horizontal Flip\n",
    "2. Gausian Blur\n",
    "3. Gausian Noise\n",
    "4. Speckle Noise\n",
    "\n",
    "Second Group\n",
    "\n",
    "0. None\n",
    "1. Contrast\n",
    "2. Brightness\n",
    "3. Hue\n",
    "4. Saturation\n",
    "5. Exposure\n",
    "\n",
    "Possible Combination is 25"
   ]
  },
  {
   "cell_type": "code",
   "execution_count": 7,
   "id": "8878790c",
   "metadata": {},
   "outputs": [],
   "source": [
    "import random\n",
    "\n",
    "def generate_random_combination(n_combination=2):\n",
    "    combination = []\n",
    "    \n",
    "    itr = 0\n",
    "    # Looping to generate n combination\n",
    "    # Only possible for 11 combination, if 11 combination has been fulfilled, loop may go infinity\n",
    "    while itr < n_combination:\n",
    "        # Generate within range 0f 0-3 and 0-2\n",
    "        temp = [random.randrange(0, 5), random.randrange(0, 6)]\n",
    "        \n",
    "        # Avoid combination [0, 0]\n",
    "        if temp == [0, 0]:\n",
    "            continue\n",
    "        \n",
    "        # Assign for first iteration\n",
    "        if itr == 0:\n",
    "            combination.append(temp)\n",
    "            itr += 1\n",
    "        \n",
    "        # Assign for second and later iteration\n",
    "        if itr != 0:      \n",
    "            # Gather Information upwards/backward of array\n",
    "            isTheSame = False\n",
    "            for data in combination:\n",
    "                if data == temp:\n",
    "                    isTheSame = True\n",
    "                    break\n",
    "                    \n",
    "            # if no similiarity to backward array temp succesfully added\n",
    "            if isTheSame == False:\n",
    "                combination.append(temp)\n",
    "                itr += 1\n",
    "            else:\n",
    "                continue\n",
    "\n",
    "    return np.asarray(combination)"
   ]
  },
  {
   "cell_type": "code",
   "execution_count": 8,
   "id": "bc5c4caa",
   "metadata": {},
   "outputs": [],
   "source": [
    "# Augmentation Action\n",
    "def brightness(img, brightness=255):    \n",
    "    if brightness != 0:\n",
    "        if brightness > 0:\n",
    "            shadow = brightness\n",
    "            highlight = 255\n",
    "        else:\n",
    "            shadow = 0\n",
    "            highlight = 255 + brightness\n",
    "        alpha_b = (highlight - shadow)/255\n",
    "        gamma_b = shadow\n",
    "        buf = cv2.addWeighted(img, alpha_b, img, 0, gamma_b)\n",
    "    else:\n",
    "        buf = img.copy()\n",
    "        \n",
    "    return buf\n",
    "\n",
    "def contrast(img, alpha=1.5, beta=20):\n",
    "    return cv2.addWeighted(img, alpha, np.zeros(img.shape, img.dtype), 0, beta)\n",
    "\n",
    "def gaussian_noise(img, intensity=0.5):\n",
    "    gauss = np.random.normal(0,intensity,img.size)\n",
    "    gauss = gauss.reshape(img.shape[0],img.shape[1],img.shape[2]).astype('uint8')\n",
    "    noise = np.add(img, gauss)\n",
    "    \n",
    "    return noise\n",
    "\n",
    "def speckle_noise(img, intensity=0.5):\n",
    "    gauss = np.random.normal(0,intensity,img.size)\n",
    "    gauss = gauss.reshape(img.shape[0],img.shape[1],img.shape[2]).astype('uint8')\n",
    "    noise = img + img * gauss\n",
    "    \n",
    "    return noise\n",
    "\n",
    "def hue_shift(image, degree_shift=180):\n",
    "    hsv = cv2.cvtColor(image, cv2.COLOR_RGB2HSV)\n",
    "    h, s, v = cv2.split(hsv)\n",
    "    shift_h = (h + 90) % degree_shift\n",
    "    shift_hsv = cv2.merge([shift_h, s, v])\n",
    "    \n",
    "    return cv2.cvtColor(shift_hsv, cv2.COLOR_HSV2RGB)\n",
    "\n",
    "def saturation(image, saturation=10, scale=1):\n",
    "    hsv = cv2.cvtColor(image, cv2.COLOR_RGB2HSV)\n",
    "    h, s, v = cv2.split(hsv)\n",
    "    apply_s = (s * scale) + saturation\n",
    "    apply_hsv = cv2.merge([h, apply_s, v])\n",
    "    \n",
    "    return cv2.cvtColor(apply_hsv, cv2.COLOR_HSV2RGB)\n",
    "\n",
    "def exposure_fusion(img):\n",
    "    exposure = [\n",
    "        brightness(img, brightness=-50),\n",
    "        brightness(img, brightness=-30),\n",
    "        brightness(img, brightness=30),\n",
    "        brightness(img, brightness=50)\n",
    "    ]\n",
    "    \n",
    "    # Align image\n",
    "    alligned = cv2.createAlignMTB()\n",
    "    alligned.process(exposure, exposure)\n",
    "    \n",
    "    # Merge image\n",
    "    merged = cv2.createMergeMertens()\n",
    "    exposureFusion = merged.process(exposure)\n",
    "\n",
    "    #info = np.iinfo(exposureFusion.dtype)\n",
    "    #data = data.astype(np.float32) / info.max\n",
    "    data = 255 * exposureFusion\n",
    "    img = data.astype(np.uint8)\n",
    "    \n",
    "    return img"
   ]
  },
  {
   "cell_type": "code",
   "execution_count": 9,
   "id": "e245a300",
   "metadata": {},
   "outputs": [],
   "source": [
    "# Augmentation Function Handler\n",
    "def augmentation_handler(img, path, combination=[1, 1]):\n",
    "    def first_group(img, num):\n",
    "        if num == 0:\n",
    "            return img\n",
    "        if num == 1:\n",
    "            return cv2.flip(img, 1)\n",
    "        if num == 2:\n",
    "            return cv2.GaussianBlur(img,(3,3),cv2.BORDER_DEFAULT)\n",
    "        if num == 3:\n",
    "            return gaussian_noise(img, intensity=0.5)\n",
    "        if num == 4:\n",
    "            return speckle_noise(img, intensity=0.5)\n",
    "    def second_group(img, num):\n",
    "        if num == 0:\n",
    "            return img\n",
    "        if num == 1:\n",
    "            return contrast(img, alpha=1.1, beta=15)\n",
    "        if num == 2:\n",
    "            return brightness(img, brightness=50)\n",
    "        if num == 3:\n",
    "            return hue_shift(img, degree_shift=120)\n",
    "        if num == 4:\n",
    "            return saturation(img, saturation=15, scale=2)\n",
    "        if num == 5:\n",
    "            return exposure_fusion(img)\n",
    "        \n",
    "    first_result  = first_group(img, combination[0])\n",
    "    final_result  = second_group(first_result, combination[1])\n",
    "    \n",
    "    return final_result"
   ]
  },
  {
   "cell_type": "code",
   "execution_count": 10,
   "id": "0f50b452",
   "metadata": {},
   "outputs": [],
   "source": [
    "def min_max(img):\n",
    "    image = img.astype('float32')\n",
    "    image /= 255.0\n",
    "    \n",
    "    return image"
   ]
  },
  {
   "cell_type": "code",
   "execution_count": 11,
   "id": "1cf1dc6e",
   "metadata": {},
   "outputs": [],
   "source": [
    "# Generate Possible All Possible Combination and avoiding [0, 0]\n",
    "imwrite_path = 'Dataset_augmented/train'\n",
    "current_img = 0\n",
    "\n",
    "for idx in range(num_classes):\n",
    "    # Generate Random Combination for augmentation Each Classes\n",
    "    combination = generate_random_combination(required_combination[idx])\n",
    "    \n",
    "    # Eliminate empty combination(Eg. Class which dont need any augmentation)\n",
    "    if len(combination) == 0:\n",
    "        continue\n",
    "        \n",
    "    # loop the Combination array\n",
    "    current_class = idx\n",
    "    for idx_comb, combinated in enumerate(combination):\n",
    "        # Loop Through the image\n",
    "        for idx_img, img in enumerate(x_train):\n",
    "            if y[idx_img] == current_class:\n",
    "                # Check for the first Augmentation\n",
    "                path = os.path.join(imwrite_path, str(current_img + 1) + \"_augmented_train_\" + str(current_class) + \".png\")\n",
    "                \n",
    "                final_img = augmentation_handler(img, path, combinated)\n",
    "                \n",
    "                cv2.imwrite(path, final_img)\n",
    "                current_img = current_img + 1"
   ]
  },
  {
   "cell_type": "code",
   "execution_count": 12,
   "id": "eb8bf22e",
   "metadata": {},
   "outputs": [],
   "source": [
    "for idx, img in enumerate(x_train):\n",
    "    path = os.path.join(imwrite_path, str(idx + 1) + \"_original_train_\" + str(y_train[idx]) + \".png\")\n",
    "    cv2.imwrite(path, img)"
   ]
  },
  {
   "cell_type": "code",
   "execution_count": 13,
   "id": "69c60520",
   "metadata": {},
   "outputs": [],
   "source": [
    "imwrite_path = 'Dataset_augmented/test'\n",
    "for idx, img in enumerate(x_test):\n",
    "    path = os.path.join(imwrite_path, str(idx + 1) + \"_original_train_\" + str(y_test[idx]) + \".png\")\n",
    "    cv2.imwrite(path, img)"
   ]
  },
  {
   "cell_type": "code",
   "execution_count": null,
   "id": "6dd37261",
   "metadata": {},
   "outputs": [],
   "source": []
  },
  {
   "cell_type": "code",
   "execution_count": null,
   "id": "35feb9fb",
   "metadata": {},
   "outputs": [],
   "source": []
  },
  {
   "cell_type": "code",
   "execution_count": null,
   "id": "8e651979",
   "metadata": {},
   "outputs": [],
   "source": []
  },
  {
   "cell_type": "code",
   "execution_count": null,
   "id": "810d88ca",
   "metadata": {},
   "outputs": [],
   "source": []
  },
  {
   "cell_type": "code",
   "execution_count": null,
   "id": "5143bce7",
   "metadata": {},
   "outputs": [],
   "source": []
  },
  {
   "cell_type": "code",
   "execution_count": null,
   "id": "82661f3b",
   "metadata": {},
   "outputs": [],
   "source": []
  },
  {
   "cell_type": "code",
   "execution_count": null,
   "id": "65463fec",
   "metadata": {},
   "outputs": [],
   "source": []
  },
  {
   "cell_type": "code",
   "execution_count": null,
   "id": "e115bcd9",
   "metadata": {},
   "outputs": [],
   "source": []
  },
  {
   "cell_type": "code",
   "execution_count": null,
   "id": "835321d7",
   "metadata": {},
   "outputs": [],
   "source": []
  },
  {
   "cell_type": "code",
   "execution_count": null,
   "id": "5e07133d",
   "metadata": {},
   "outputs": [],
   "source": []
  },
  {
   "cell_type": "code",
   "execution_count": null,
   "id": "f0abe6d2",
   "metadata": {},
   "outputs": [],
   "source": []
  },
  {
   "cell_type": "code",
   "execution_count": null,
   "id": "8893ca74",
   "metadata": {},
   "outputs": [],
   "source": []
  },
  {
   "cell_type": "code",
   "execution_count": null,
   "id": "818bf3b2",
   "metadata": {},
   "outputs": [],
   "source": []
  },
  {
   "cell_type": "code",
   "execution_count": null,
   "id": "c811a8df",
   "metadata": {},
   "outputs": [],
   "source": []
  }
 ],
 "metadata": {
  "kernelspec": {
   "display_name": "Python 3 (ipykernel)",
   "language": "python",
   "name": "python3"
  },
  "language_info": {
   "codemirror_mode": {
    "name": "ipython",
    "version": 3
   },
   "file_extension": ".py",
   "mimetype": "text/x-python",
   "name": "python",
   "nbconvert_exporter": "python",
   "pygments_lexer": "ipython3",
   "version": "3.9.7"
  }
 },
 "nbformat": 4,
 "nbformat_minor": 5
}
