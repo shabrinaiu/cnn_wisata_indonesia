{
 "cells": [
  {
   "cell_type": "code",
   "execution_count": 1,
   "id": "966ae8b2",
   "metadata": {},
   "outputs": [],
   "source": [
    "import cv2\n",
    "import os\n",
    "import numpy as np\n",
    "import glob\n",
    "from PIL import Image"
   ]
  },
  {
   "cell_type": "code",
   "execution_count": 2,
   "id": "334ecd23",
   "metadata": {},
   "outputs": [],
   "source": [
    "# Extract labels and main directory for each labels\n",
    "dataset_path = \"Dataset\"\n",
    "labels_path = glob.glob(dataset_path + \"\\\\*\")\n",
    "labels = [x.split(\"\\\\\")[1] for x in labels_path]"
   ]
  },
  {
   "cell_type": "code",
   "execution_count": 3,
   "id": "d527941a",
   "metadata": {},
   "outputs": [],
   "source": [
    "import json\n",
    "\n",
    "# Format label and encode\n",
    "labels_dict = {}\n",
    "for idx, label in enumerate(labels):\n",
    "    labels_dict[label] = idx\n",
    "\n",
    "# Save to json\n",
    "json = json.dumps(labels_dict)\n",
    "f = open(\"label_encode.json\",\"w\")\n",
    "f.write(json)\n",
    "f.close()"
   ]
  },
  {
   "cell_type": "code",
   "execution_count": 4,
   "id": "96f593cc",
   "metadata": {},
   "outputs": [],
   "source": [
    "# Aliasing function\n",
    "def anti_aliasing(img):\n",
    "    pil_img = Image.fromarray(img)\n",
    "    pil_img = pil_img.resize((256, 256), resample=Image.ANTIALIAS)\n",
    "    \n",
    "    return np.asarray(pil_img)"
   ]
  },
  {
   "cell_type": "code",
   "execution_count": 5,
   "id": "8878790c",
   "metadata": {},
   "outputs": [],
   "source": [
    "# Load images path with the label in encoded format then resize to 256x256 and anti alliasing\n",
    "images = []\n",
    "targets = []\n",
    "\n",
    "# Loop through label path\n",
    "for idx_label_path, label_path in enumerate(labels_path):\n",
    "    images_path = glob.glob(os.path.join(label_path, \"*\"))\n",
    "    # Loop through image path\n",
    "    for idx_image_path, image_path in enumerate(images_path):\n",
    "        try:\n",
    "            # Image preprocessing\n",
    "            img = cv2.imread(image_path)\n",
    "            img = cv2.cvtColor(img, cv2.COLOR_BGR2RGB)\n",
    "            img = anti_aliasing(img)\n",
    "            images.append(img)\n",
    "        \n",
    "            # Target each image\n",
    "            targets.append(labels_dict[labels[idx_label_path]])\n",
    "        except:\n",
    "            print(image_path)"
   ]
  },
  {
   "cell_type": "code",
   "execution_count": 6,
   "id": "1cf1dc6e",
   "metadata": {},
   "outputs": [
    {
     "ename": "IndexError",
     "evalue": "list index out of range",
     "output_type": "error",
     "traceback": [
      "\u001b[1;31m---------------------------------------------------------------------------\u001b[0m",
      "\u001b[1;31mIndexError\u001b[0m                                Traceback (most recent call last)",
      "\u001b[1;32m~\\AppData\\Local\\Temp/ipykernel_7504/1983438333.py\u001b[0m in \u001b[0;36m<module>\u001b[1;34m\u001b[0m\n\u001b[0;32m      2\u001b[0m \u001b[1;33m\u001b[0m\u001b[0m\n\u001b[0;32m      3\u001b[0m \u001b[1;31m# Sample\u001b[0m\u001b[1;33m\u001b[0m\u001b[1;33m\u001b[0m\u001b[0m\n\u001b[1;32m----> 4\u001b[1;33m \u001b[0mplt\u001b[0m\u001b[1;33m.\u001b[0m\u001b[0mimshow\u001b[0m\u001b[1;33m(\u001b[0m\u001b[0mimages\u001b[0m\u001b[1;33m[\u001b[0m\u001b[1;36m0\u001b[0m\u001b[1;33m]\u001b[0m\u001b[1;33m)\u001b[0m\u001b[1;33m\u001b[0m\u001b[1;33m\u001b[0m\u001b[0m\n\u001b[0m\u001b[0;32m      5\u001b[0m \u001b[0mprint\u001b[0m\u001b[1;33m(\u001b[0m\u001b[1;34m\"Label/Target is {} - {}\"\u001b[0m\u001b[1;33m.\u001b[0m\u001b[0mformat\u001b[0m\u001b[1;33m(\u001b[0m\u001b[0mstr\u001b[0m\u001b[1;33m(\u001b[0m\u001b[0mtargets\u001b[0m\u001b[1;33m[\u001b[0m\u001b[1;36m0\u001b[0m\u001b[1;33m]\u001b[0m\u001b[1;33m)\u001b[0m\u001b[1;33m,\u001b[0m \u001b[0mlabels\u001b[0m\u001b[1;33m[\u001b[0m\u001b[0mtargets\u001b[0m\u001b[1;33m[\u001b[0m\u001b[1;36m0\u001b[0m\u001b[1;33m]\u001b[0m\u001b[1;33m]\u001b[0m\u001b[1;33m)\u001b[0m\u001b[1;33m)\u001b[0m\u001b[1;33m\u001b[0m\u001b[1;33m\u001b[0m\u001b[0m\n",
      "\u001b[1;31mIndexError\u001b[0m: list index out of range"
     ]
    }
   ],
   "source": [
    "import matplotlib.pyplot as plt\n",
    "\n",
    "# Sample\n",
    "plt.imshow(images[0])\n",
    "print(\"Label/Target is {} - {}\".format(str(targets[0]), labels[targets[0]]))"
   ]
  },
  {
   "cell_type": "code",
   "execution_count": null,
   "id": "69c60520",
   "metadata": {},
   "outputs": [],
   "source": [
    "# Calculate ratio each classes\n",
    "from collections import Counter\n",
    "\n",
    "counter = Counter(targets)\n",
    "for k, v in counter.items():\n",
    "    per= v / len(targets) * 100\n",
    "    print('Class=%d, n=%d (%.3f%%)' % (k, v, per))"
   ]
  },
  {
   "cell_type": "code",
   "execution_count": null,
   "id": "5e07133d",
   "metadata": {},
   "outputs": [],
   "source": [
    "# to numpy\n",
    "images = np.asarray(images)\n",
    "targets = np.asarray(targets)"
   ]
  },
  {
   "cell_type": "code",
   "execution_count": null,
   "id": "f0abe6d2",
   "metadata": {},
   "outputs": [],
   "source": [
    "# Save to npz\n",
    "np.savez(\"utils/dataset.npz\", x=images, y=targets)"
   ]
  },
  {
   "cell_type": "code",
   "execution_count": null,
   "id": "8893ca74",
   "metadata": {},
   "outputs": [],
   "source": []
  }
 ],
 "metadata": {
  "kernelspec": {
   "display_name": "Python 3 (ipykernel)",
   "language": "python",
   "name": "python3"
  },
  "language_info": {
   "codemirror_mode": {
    "name": "ipython",
    "version": 3
   },
   "file_extension": ".py",
   "mimetype": "text/x-python",
   "name": "python",
   "nbconvert_exporter": "python",
   "pygments_lexer": "ipython3",
   "version": "3.9.7"
  }
 },
 "nbformat": 4,
 "nbformat_minor": 5
}
